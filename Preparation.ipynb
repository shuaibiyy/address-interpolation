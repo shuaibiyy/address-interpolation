{
 "cells": [
  {
   "cell_type": "markdown",
   "metadata": {},
   "source": [
    "# Address Interpolation\n",
    "\n",
    "Learn projections of addresses onto streets without knowledge of  the Address Reference System.\n",
    "\n",
    "## Variables\n",
    "\n",
    "* House number\n",
    "* Street name\n",
    "* Street tags (optional)\n",
    "* Admin hierarchy (optional)\n",
    "* Coordinates of projection onto street (target)\n",
    "\n",
    "## Objective\n",
    "\n",
    "Difference between target projection and predicted projection.\n",
    "\n",
    "## Dataset Extraction\n",
    "\n",
    "* House number and street name come from OpenAddresses.\n",
    "* Street tags and geometry come from OSM. Street geometry is used to derive the target variable. Streets in OSM have a `highway` tag. We might need to figure out how to construct streets from their constituent ways. See pelias/interpolation for polyline construction code.\n",
    "* Admin hierarchy will be fetched from a point-in-polygon service.\n",
    "\n",
    "## Training\n",
    "\n",
    "Due to the sequential nature of addresses, a recurrent neural network might be well-suited for the task.\n"
   ]
  },
  {
   "cell_type": "code",
   "execution_count": 5,
   "metadata": {},
   "outputs": [],
   "source": [
    "import pandas as pd\n",
    "import numpy as np\n",
    "import json_lines\n",
    "import subprocess\n",
    "import urllib\n",
    "import json\n",
    "import operator\n",
    "import functools"
   ]
  },
  {
   "cell_type": "markdown",
   "metadata": {},
   "source": [
    "### Load OpenAddresses Data\n",
    "\n",
    "Downloaded from https://openaddresses.io/"
   ]
  },
  {
   "cell_type": "code",
   "execution_count": 84,
   "metadata": {},
   "outputs": [],
   "source": [
    "df = pd.read_csv('./data/tmp/berlin.csv')"
   ]
  },
  {
   "cell_type": "code",
   "execution_count": 85,
   "metadata": {},
   "outputs": [
    {
     "data": {
      "text/html": [
       "<div>\n",
       "<style scoped>\n",
       "    .dataframe tbody tr th:only-of-type {\n",
       "        vertical-align: middle;\n",
       "    }\n",
       "\n",
       "    .dataframe tbody tr th {\n",
       "        vertical-align: top;\n",
       "    }\n",
       "\n",
       "    .dataframe thead th {\n",
       "        text-align: right;\n",
       "    }\n",
       "</style>\n",
       "<table border=\"1\" class=\"dataframe\">\n",
       "  <thead>\n",
       "    <tr style=\"text-align: right;\">\n",
       "      <th></th>\n",
       "      <th>LON</th>\n",
       "      <th>LAT</th>\n",
       "      <th>NUMBER</th>\n",
       "      <th>STREET</th>\n",
       "      <th>UNIT</th>\n",
       "      <th>CITY</th>\n",
       "      <th>DISTRICT</th>\n",
       "      <th>REGION</th>\n",
       "      <th>POSTCODE</th>\n",
       "      <th>ID</th>\n",
       "      <th>HASH</th>\n",
       "    </tr>\n",
       "  </thead>\n",
       "  <tbody>\n",
       "    <tr>\n",
       "      <th>375335</th>\n",
       "      <td>13.429430</td>\n",
       "      <td>52.491522</td>\n",
       "      <td>1</td>\n",
       "      <td>Liberdastraße</td>\n",
       "      <td>NaN</td>\n",
       "      <td>Berlin</td>\n",
       "      <td>NaN</td>\n",
       "      <td>NaN</td>\n",
       "      <td>0</td>\n",
       "      <td>NaN</td>\n",
       "      <td>df207073db4e670f</td>\n",
       "    </tr>\n",
       "    <tr>\n",
       "      <th>375336</th>\n",
       "      <td>13.140310</td>\n",
       "      <td>52.453649</td>\n",
       "      <td>20 C</td>\n",
       "      <td>Sakrower Landstraße</td>\n",
       "      <td>NaN</td>\n",
       "      <td>Berlin</td>\n",
       "      <td>NaN</td>\n",
       "      <td>NaN</td>\n",
       "      <td>0</td>\n",
       "      <td>NaN</td>\n",
       "      <td>2029a7431cca1768</td>\n",
       "    </tr>\n",
       "    <tr>\n",
       "      <th>375337</th>\n",
       "      <td>13.208380</td>\n",
       "      <td>52.558394</td>\n",
       "      <td>15</td>\n",
       "      <td>Streitstraße</td>\n",
       "      <td>NaN</td>\n",
       "      <td>Berlin</td>\n",
       "      <td>NaN</td>\n",
       "      <td>NaN</td>\n",
       "      <td>0</td>\n",
       "      <td>NaN</td>\n",
       "      <td>082573c0d67906c7</td>\n",
       "    </tr>\n",
       "    <tr>\n",
       "      <th>375338</th>\n",
       "      <td>13.386425</td>\n",
       "      <td>52.515338</td>\n",
       "      <td>14</td>\n",
       "      <td>Behrenstraße</td>\n",
       "      <td>NaN</td>\n",
       "      <td>Berlin</td>\n",
       "      <td>NaN</td>\n",
       "      <td>NaN</td>\n",
       "      <td>0</td>\n",
       "      <td>NaN</td>\n",
       "      <td>5a17069f536d2b44</td>\n",
       "    </tr>\n",
       "    <tr>\n",
       "      <th>375339</th>\n",
       "      <td>13.411902</td>\n",
       "      <td>52.581912</td>\n",
       "      <td>27</td>\n",
       "      <td>Siegfriedstraße</td>\n",
       "      <td>NaN</td>\n",
       "      <td>Berlin</td>\n",
       "      <td>NaN</td>\n",
       "      <td>NaN</td>\n",
       "      <td>0</td>\n",
       "      <td>NaN</td>\n",
       "      <td>edba5ab987d1973a</td>\n",
       "    </tr>\n",
       "  </tbody>\n",
       "</table>\n",
       "</div>"
      ],
      "text/plain": [
       "              LON        LAT NUMBER               STREET  UNIT    CITY  \\\n",
       "375335  13.429430  52.491522      1        Liberdastraße   NaN  Berlin   \n",
       "375336  13.140310  52.453649   20 C  Sakrower Landstraße   NaN  Berlin   \n",
       "375337  13.208380  52.558394     15         Streitstraße   NaN  Berlin   \n",
       "375338  13.386425  52.515338     14         Behrenstraße   NaN  Berlin   \n",
       "375339  13.411902  52.581912     27      Siegfriedstraße   NaN  Berlin   \n",
       "\n",
       "        DISTRICT  REGION  POSTCODE  ID              HASH  \n",
       "375335       NaN     NaN         0 NaN  df207073db4e670f  \n",
       "375336       NaN     NaN         0 NaN  2029a7431cca1768  \n",
       "375337       NaN     NaN         0 NaN  082573c0d67906c7  \n",
       "375338       NaN     NaN         0 NaN  5a17069f536d2b44  \n",
       "375339       NaN     NaN         0 NaN  edba5ab987d1973a  "
      ]
     },
     "execution_count": 85,
     "metadata": {},
     "output_type": "execute_result"
    }
   ],
   "source": [
    "df.tail()"
   ]
  },
  {
   "cell_type": "code",
   "execution_count": 86,
   "metadata": {},
   "outputs": [],
   "source": [
    "df.columns = df.columns.str.lower()"
   ]
  },
  {
   "cell_type": "code",
   "execution_count": 87,
   "metadata": {},
   "outputs": [
    {
     "data": {
      "text/plain": [
       "Hauptstraße                  971\n",
       "Berliner Straße              809\n",
       "Köpenicker Straße            704\n",
       "Waldstraße                   682\n",
       "Dorfstraße                   589\n",
       "Heerstraße                   575\n",
       "Schillerstraße               551\n",
       "Kastanienallee               538\n",
       "Lindenstraße                 534\n",
       "Schulzendorfer Straße        534\n",
       "Mariendorfer Damm            493\n",
       "Goethestraße                 479\n",
       "Uhlandstraße                 466\n",
       "Kladower Damm                460\n",
       "Müllerstraße                 458\n",
       "Kurfürstenstraße             458\n",
       "Wendenschloßstraße           455\n",
       "Bahnhofstraße                438\n",
       "Scharnweberstraße            426\n",
       "Rudower Straße               413\n",
       "Charlottenstraße             400\n",
       "Pilgramer Straße             396\n",
       "Bernauer Straße              388\n",
       "Brunsbütteler Damm           387\n",
       "Parkstraße                   379\n",
       "Johannisthaler Chaussee      369\n",
       "Hildburghauser Straße        366\n",
       "Ahornallee                   366\n",
       "Ringstraße                   363\n",
       "Landsberger Allee            362\n",
       "                            ... \n",
       "Rohrdommelweg                  1\n",
       "Kemperplatz                    1\n",
       "Jesse-Owens-Allee              1\n",
       "Mathilde-Jacob-Platz           1\n",
       "Jean-Monnet-Straße             1\n",
       "Graffplatz                     1\n",
       "Schierker Platz                1\n",
       "August-Bebel-Straße            1\n",
       "Haardtweg                      1\n",
       "Golßener Straße                1\n",
       "Koblanckstraße                 1\n",
       "Am Haselbusch                  1\n",
       "Utestraße                      1\n",
       "Clara-von-Simson-Straße        1\n",
       "Walther-Schreiber-Platz        1\n",
       "Gillweg                        1\n",
       "Am Wiesenhang                  1\n",
       "Tourcoing Straße               1\n",
       "Straße 99                      1\n",
       "Doldenweg                      1\n",
       "Bedeweg                        1\n",
       "Joseph-Haydn-Straße            1\n",
       "Jafféstraße                    1\n",
       "Rotraut-Richter-Platz          1\n",
       "Lossebergplatz                 1\n",
       "Ludwig-Boltzmann-Straße        1\n",
       "Arkenberger Damm               1\n",
       "Abram-Joffe-Straße             1\n",
       "Hegelplatz                     1\n",
       "Friedrich-Stampfer-Straße      1\n",
       "Name: street, Length: 9011, dtype: int64"
      ]
     },
     "execution_count": 87,
     "metadata": {},
     "output_type": "execute_result"
    }
   ],
   "source": [
    "df['street'].value_counts()"
   ]
  },
  {
   "cell_type": "markdown",
   "metadata": {},
   "source": [
    "### Number of unique streets"
   ]
  },
  {
   "cell_type": "code",
   "execution_count": 88,
   "metadata": {},
   "outputs": [
    {
     "data": {
      "text/plain": [
       "9011"
      ]
     },
     "execution_count": 88,
     "metadata": {},
     "output_type": "execute_result"
    }
   ],
   "source": [
    "df['street'].nunique()"
   ]
  },
  {
   "cell_type": "code",
   "execution_count": 89,
   "metadata": {},
   "outputs": [],
   "source": [
    "def street_min_max(street):\n",
    "    addrs = df[df['street'] == street]\n",
    "    return min(addrs['number']), max(addrs['number'])\n",
    "\n",
    "def get_street(street):\n",
    "    return df[df['street'] == street]\n",
    "\n",
    "def missing_elements(L):\n",
    "    L = sorted(L)\n",
    "    start, end = L[0], L[-1]\n",
    "    return set(range(start, end + 1)).difference(L)"
   ]
  },
  {
   "cell_type": "code",
   "execution_count": 90,
   "metadata": {},
   "outputs": [
    {
     "data": {
      "text/plain": [
       "('1', '90')"
      ]
     },
     "execution_count": 90,
     "metadata": {},
     "output_type": "execute_result"
    }
   ],
   "source": [
    "street_min_max('Schwedter Straße')"
   ]
  },
  {
   "cell_type": "code",
   "execution_count": 91,
   "metadata": {},
   "outputs": [],
   "source": [
    "df['number'] = df['number'].apply(lambda x: x.split()[0])"
   ]
  },
  {
   "cell_type": "code",
   "execution_count": 92,
   "metadata": {},
   "outputs": [],
   "source": [
    "df['number'] = pd.to_numeric(df['number'])"
   ]
  },
  {
   "cell_type": "markdown",
   "metadata": {},
   "source": [
    "### Number of missing house numbers on Schwedter Straße:"
   ]
  },
  {
   "cell_type": "code",
   "execution_count": 93,
   "metadata": {},
   "outputs": [
    {
     "data": {
      "text/plain": [
       "174"
      ]
     },
     "execution_count": 93,
     "metadata": {},
     "output_type": "execute_result"
    }
   ],
   "source": [
    "len(missing_elements(list(get_street('Schwedter Straße')['number'])))"
   ]
  },
  {
   "cell_type": "code",
   "execution_count": 94,
   "metadata": {},
   "outputs": [],
   "source": [
    "def has_missing_addr(street):\n",
    "    return len(missing_elements(list(get_street(street)['number']))) > 0"
   ]
  },
  {
   "cell_type": "markdown",
   "metadata": {},
   "source": [
    "### Percentage of streets with missing addresses:"
   ]
  },
  {
   "cell_type": "code",
   "execution_count": 107,
   "metadata": {},
   "outputs": [
    {
     "name": "stdout",
     "output_type": "stream",
     "text": [
      "CPU times: user 3min 27s, sys: 854 ms, total: 3min 27s\n",
      "Wall time: 3min 34s\n"
     ]
    }
   ],
   "source": [
    "%%time\n",
    "missing = list(map(lambda x: has_missing_addr(x), df['street'].unique()))"
   ]
  },
  {
   "cell_type": "code",
   "execution_count": 109,
   "metadata": {},
   "outputs": [],
   "source": [
    "m = np.array(missing)\n",
    "vals, counts = np.unique(m, return_counts=True)"
   ]
  },
  {
   "cell_type": "code",
   "execution_count": 124,
   "metadata": {},
   "outputs": [
    {
     "data": {
      "text/plain": [
       "'25.641383156720583%'"
      ]
     },
     "execution_count": 124,
     "metadata": {},
     "output_type": "execute_result"
    }
   ],
   "source": [
    "\"{}%\".format(counts[0]/counts[1] * 100)"
   ]
  },
  {
   "cell_type": "code",
   "execution_count": 127,
   "metadata": {},
   "outputs": [
    {
     "name": "stdout",
     "output_type": "stream",
     "text": [
      "[False  True] [1839 7172]\n"
     ]
    }
   ],
   "source": [
    "print(vals, counts)"
   ]
  },
  {
   "cell_type": "markdown",
   "metadata": {},
   "source": [
    "### Prepare Street Data\n",
    "\n",
    "#### Using Osmosis\n",
    "\n",
    "##### Prerequisites\n",
    "* Download OSM data in pbf format from https://download.geofabrik.de/\n",
    "* Install osmosis https://github.com/openstreetmap/osmosis\n",
    "* Install osmtogeojson https://github.com/tyrasd/osmtogeojson\n",
    "\n",
    "##### Run from the command line\n",
    "<pre>\n",
    "osmosis --read-pbf berlin-latest.osm.pbf --tf accept-ways highway=* --used-node --write-xml data/tmp/berlin-highways.osm\n",
    "\n",
    "osmtogeojson berlin-highways.osm > data/berlin-streets.geojson\n",
    "</pre>\n",
    "\n",
    "#### Using pbf2json\n",
    "\n",
    "##### Prerequisites\n",
    "* Download OSM data in pbf format from https://download.geofabrik.de/\n",
    "* Download pbf2json https://github.com/pelias/pbf2json\n",
    "\n",
    "##### Run from the command line\n",
    "<pre>\n",
    "./build/pbf2json.darwin-x64 -tags=\"highway+name\" /pelias/data/openstreetmap/berlin-latest.osm.pbf > data/berlin-streets.json\n",
    "</pre>"
   ]
  },
  {
   "cell_type": "code",
   "execution_count": 8,
   "metadata": {},
   "outputs": [],
   "source": [
    "streets = []\n",
    "\n",
    "def gen_street_data():\n",
    "    with open('./data/berlin-streets.json', 'rb') as f:\n",
    "        for line in json_lines.reader(f, broken=True):\n",
    "            if 'centroid' not in line.keys():\n",
    "                continue\n",
    "            centroid = line['centroid']\n",
    "            tags = line['tags']\n",
    "            id_ = {'id': str(line['id'])}\n",
    "            street = {**id_, **centroid, **tags}\n",
    "            streets.append(street)"
   ]
  },
  {
   "cell_type": "code",
   "execution_count": 9,
   "metadata": {},
   "outputs": [],
   "source": [
    "gen_street_data()"
   ]
  },
  {
   "cell_type": "code",
   "execution_count": 135,
   "metadata": {},
   "outputs": [
    {
     "data": {
      "text/plain": [
       "[{'id': '4045150',\n",
       "  'lat': '52.3743965',\n",
       "  'lon': '13.6086490',\n",
       "  'highway': 'residential',\n",
       "  'maxspeed': '50',\n",
       "  'name': 'Waldstraße',\n",
       "  'postal_code': '15732',\n",
       "  'sidewalk': 'both',\n",
       "  'surface': 'asphalt'},\n",
       " {'id': '4045194',\n",
       "  'lat': '52.4932706',\n",
       "  'lon': '13.5314388',\n",
       "  'description': 'Ursula Goetze (1907-1943), member of the German Resistence, senteced to death by the Reich Court-martial',\n",
       "  'highway': 'residential',\n",
       "  'lit': 'yes',\n",
       "  'maxspeed': '30',\n",
       "  'name': 'Ursula-Goetze-Straße',\n",
       "  'old_name': 'Waterbergstraße',\n",
       "  'parking:condition:left': 'free',\n",
       "  'parking:lane:left': 'parallel',\n",
       "  'parking:lane:left:parallel': 'on_street',\n",
       "  'postal_code': '10318',\n",
       "  'sidewalk': 'both',\n",
       "  'source:maxspeed': 'DE:zone30',\n",
       "  'surface': 'asphalt'},\n",
       " {'id': '4045220',\n",
       "  'lat': '52.4891055',\n",
       "  'lon': '13.5252426',\n",
       "  'highway': 'residential',\n",
       "  'lanes': '1',\n",
       "  'lit': 'yes',\n",
       "  'maxspeed': '30',\n",
       "  'name': 'Hönower Straße',\n",
       "  'postal_code': '10318',\n",
       "  'sidewalk': 'both',\n",
       "  'surface': 'cobblestone'},\n",
       " {'id': '4045223',\n",
       "  'lat': '52.4859846',\n",
       "  'lon': '13.5248996',\n",
       "  'highway': 'residential',\n",
       "  'lanes': '1',\n",
       "  'maxspeed': '30',\n",
       "  'name': 'Gundelfinger Straße',\n",
       "  'oneway': 'yes',\n",
       "  'parking:lane:both': 'parallel',\n",
       "  'postal_code': '10318',\n",
       "  'sidewalk': 'both',\n",
       "  'surface': 'cobblestone'},\n",
       " {'id': '4045243',\n",
       "  'lat': '52.5154640',\n",
       "  'lon': '13.4565950',\n",
       "  'cycleway:right': 'track',\n",
       "  'highway': 'primary',\n",
       "  'lanes': '3',\n",
       "  'lit': 'yes',\n",
       "  'maxspeed': '50',\n",
       "  'name': 'Frankfurter Allee',\n",
       "  'oneway': 'yes',\n",
       "  'postal_code': '10247',\n",
       "  'ref': 'B 1;B 5',\n",
       "  'sidewalk': 'right',\n",
       "  'surface': 'asphalt'}]"
      ]
     },
     "execution_count": 135,
     "metadata": {},
     "output_type": "execute_result"
    }
   ],
   "source": [
    "streets[:5]"
   ]
  },
  {
   "cell_type": "markdown",
   "metadata": {},
   "source": [
    "### Address Dataframe\n",
    "We can go through each street from the PBF extract; requesting an interpolation of each address on the street and storing the address plus the street tags into a dataframe.\n",
    "\n",
    "#### Known tags:\n",
    "Booleans are respresented as \"yes\" or \"no\".\n",
    "\n",
    "* lit: boolean\n",
    "* maxspeed: float\n",
    "* postal_code: string\n",
    "* surface: string\n",
    "* highway: string\n",
    "* oneway: boolean\n",
    "* bicycle: boolean\n",
    "* parking:condition:left: string\n",
    "* parking:condition:right: string\n",
    "* parking:condition:both: string\n",
    "* parking:lane:left: string\n",
    "* parking:lane:right: string\n",
    "* parking:lane:both: string\n",
    "* lanes: int\n",
    "* cycleway:left: string\n",
    "* cycleway:right: string\n",
    "* cycleway:both: string\n",
    "* cycleway: string\n",
    "* foot: string\n",
    "* sidewalk: string\n",
    "* smoothness: string\n",
    "* lit_by_gaslight: boolean\n"
   ]
  },
  {
   "cell_type": "code",
   "execution_count": 11,
   "metadata": {},
   "outputs": [],
   "source": [
    "# https://github.com/pelias/interpolation\n",
    "\n",
    "def run_interpolation_extract(lat, lon, street, filename):\n",
    "    \"\"\"Create a JSON file containing the addresses on a street and their attributes.\"\"\"\n",
    "    subprocess.run(f\"/Users/yunussh/workspace/interpolation/interpolate extract /pelias/address.db /pelias/street.db '{lat}' '{lon}' '{street}' 'geojson' | jq '.features | map(.properties) | map(select(.housenumber))' > data/streets/{filename}.json\", shell=True)\n",
    "\n",
    "def create_street_json(street):\n",
    "    filename = urllib.parse.quote_plus(street['id'] + '__' + street['name'])\n",
    "    gen_json(street['lat'], street['lon'], street['name'], filename)"
   ]
  },
  {
   "cell_type": "code",
   "execution_count": null,
   "metadata": {},
   "outputs": [],
   "source": [
    "[create_street_json(x) for x in streets]"
   ]
  },
  {
   "cell_type": "code",
   "execution_count": null,
   "metadata": {},
   "outputs": [],
   "source": [
    "def extract_addresses(street):\n",
    "    filename = urllib.parse.quote_plus(street['id'] + '__' + street['name'])\n",
    "\n",
    "    with open(f'data/streets/{filename}.json') as f:\n",
    "        return json.load(f)"
   ]
  },
  {
   "cell_type": "code",
   "execution_count": null,
   "metadata": {},
   "outputs": [],
   "source": [
    "%%time\n",
    "nested = [extract_addresses(x) for x in streets]"
   ]
  },
  {
   "cell_type": "code",
   "execution_count": null,
   "metadata": {},
   "outputs": [],
   "source": [
    "%%time\n",
    "addresses = functools.reduce(operator.iconcat, nested, [])"
   ]
  },
  {
   "cell_type": "code",
   "execution_count": null,
   "metadata": {},
   "outputs": [],
   "source": []
  },
  {
   "cell_type": "code",
   "execution_count": null,
   "metadata": {},
   "outputs": [],
   "source": []
  },
  {
   "cell_type": "code",
   "execution_count": null,
   "metadata": {},
   "outputs": [],
   "source": []
  },
  {
   "cell_type": "code",
   "execution_count": null,
   "metadata": {},
   "outputs": [],
   "source": []
  },
  {
   "cell_type": "code",
   "execution_count": null,
   "metadata": {},
   "outputs": [],
   "source": []
  },
  {
   "cell_type": "code",
   "execution_count": null,
   "metadata": {},
   "outputs": [],
   "source": []
  }
 ],
 "metadata": {
  "kernelspec": {
   "display_name": "Python 3",
   "language": "python",
   "name": "python3"
  },
  "language_info": {
   "codemirror_mode": {
    "name": "ipython",
    "version": 3
   },
   "file_extension": ".py",
   "mimetype": "text/x-python",
   "name": "python",
   "nbconvert_exporter": "python",
   "pygments_lexer": "ipython3",
   "version": "3.6.7"
  }
 },
 "nbformat": 4,
 "nbformat_minor": 2
}
